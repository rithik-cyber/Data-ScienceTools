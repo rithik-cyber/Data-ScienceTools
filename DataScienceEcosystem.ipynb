{
 "cells": [
  {
   "cell_type": "markdown",
   "id": "bfa7543c-9add-4b77-8ef9-6a7191943cb5",
   "metadata": {},
   "source": [
    "# Data Science Tools and Ecosystem"
   ]
  },
  {
   "cell_type": "markdown",
   "id": "fa16e110-7d50-45b9-b8e5-356c3fef108a",
   "metadata": {},
   "source": [
    "## Introduction\n",
    "In this notebook, Data Science Tools and Ecosystem are summarized"
   ]
  },
  {
   "cell_type": "markdown",
   "id": "b0973648-4b57-4cd6-8b67-3bb5d02be037",
   "metadata": {},
   "source": [
    "**Objectives:**\n",
    "- List popular languages for Data Science\n",
    "- Identify common libraries used in Data Science\n",
    "- Understand data science tools and environments\n",
    "- Perform basic arithmetic operations in Python\n",
    "- Learn how to convert units (minutes to hours)\n"
   ]
  },
  {
   "cell_type": "markdown",
   "id": "2357f5a4-fd4d-47c7-9525-862e0e58805b",
   "metadata": {},
   "source": [
    "## Data Science Languages\n",
    "Some of the popular Languages that Data Scientists use are:\n",
    "1. Python\n",
    "2. R\n",
    "3. SQL\n",
    "4. Julia\n",
    "5. C++\n",
    "6. MATLAB\n",
    "7. SAS\n",
    "8. Scala\n",
    "9. JavaScript\n",
    "10. Kotlin"
   ]
  },
  {
   "cell_type": "markdown",
   "id": "3acd1dd6-1de8-45ca-970f-0b809be29c8a",
   "metadata": {},
   "source": [
    "## Data Science Libraries\n",
    "Some of the commonly used libraries used by Data Scientists include:\n",
    "1. Numpy\n",
    "2. Pandas\n",
    "3. Matplotlib\n",
    "4. Seaborn\n",
    "5. Scikit-Learn\n",
    "6. Pytorch\n",
    "7. Scipy\n",
    "8. Statsmodels\n",
    "9. Plotly\n",
    "10. TensorFlow\n",
    "    "
   ]
  },
  {
   "cell_type": "markdown",
   "id": "4491e2d0-05de-47a9-892f-dc1beab28799",
   "metadata": {},
   "source": [
    "## Data Science Tools\n",
    "| Data Science Tools |\n",
    "|--------------------|\n",
    "| Jupyter Notebook   |\n",
    "| RStudio            |\n",
    "| Apache Zeppelin    |\n",
    "| PyCharm            |\n",
    "| Tableau            |\n",
    "| Hadoop             |\n",
    "| Github             |\n",
    "| KNIME              |\n",
    "| Google Colab       |"
   ]
  },
  {
   "cell_type": "markdown",
   "id": "4002898d-d606-422d-afc0-e0a195cf278c",
   "metadata": {},
   "source": [
    "### Below are a few examples of evaluating arithmetic expressions in Python\n"
   ]
  },
  {
   "cell_type": "code",
   "execution_count": 1,
   "id": "9863ad2b-f65f-4e3c-b8df-0861b1536f42",
   "metadata": {},
   "outputs": [
    {
     "name": "stdout",
     "output_type": "stream",
     "text": [
      "17\n"
     ]
    }
   ],
   "source": [
    "# multiply and Add Integers\n",
    "a = (3*4)+5\n",
    "print(a)"
   ]
  },
  {
   "cell_type": "code",
   "execution_count": 2,
   "id": "6a139546-036f-48c4-ace5-1f4d2b06b059",
   "metadata": {},
   "outputs": [
    {
     "name": "stdout",
     "output_type": "stream",
     "text": [
      "3.3333333333333335\n"
     ]
    }
   ],
   "source": [
    "# convert minutes into hours\n",
    "minutes = 200\n",
    "hours = minutes / 60\n",
    "print(hours)"
   ]
  },
  {
   "cell_type": "markdown",
   "id": "97cffe18-e6c7-4dec-bdfb-cc004f679e19",
   "metadata": {},
   "source": [
    "## Author\n",
    "Rithik\n"
   ]
  },
  {
   "cell_type": "code",
   "execution_count": null,
   "id": "848298b9-5e6c-454e-ba5d-ad49a5c2fb07",
   "metadata": {},
   "outputs": [],
   "source": []
  }
 ],
 "metadata": {
  "kernelspec": {
   "display_name": "Python 3 (ipykernel)",
   "language": "python",
   "name": "python3"
  },
  "language_info": {
   "codemirror_mode": {
    "name": "ipython",
    "version": 3
   },
   "file_extension": ".py",
   "mimetype": "text/x-python",
   "name": "python",
   "nbconvert_exporter": "python",
   "pygments_lexer": "ipython3",
   "version": "3.11.0"
  }
 },
 "nbformat": 4,
 "nbformat_minor": 5
}
